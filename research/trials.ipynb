{
 "cells": [
  {
   "cell_type": "code",
   "execution_count": 4,
   "metadata": {},
   "outputs": [
    {
     "name": "stdout",
     "output_type": "stream",
     "text": [
      "Requirement already satisfied: gdown in c:\\users\\91808\\downloads\\end-to-end-with-mlflow-dvc\\myenv\\lib\\site-packages (5.1.0)\n",
      "Requirement already satisfied: beautifulsoup4 in c:\\users\\91808\\downloads\\end-to-end-with-mlflow-dvc\\myenv\\lib\\site-packages (from gdown) (4.12.3)\n",
      "Requirement already satisfied: filelock in c:\\users\\91808\\downloads\\end-to-end-with-mlflow-dvc\\myenv\\lib\\site-packages (from gdown) (3.13.1)\n",
      "Requirement already satisfied: requests[socks] in c:\\users\\91808\\downloads\\end-to-end-with-mlflow-dvc\\myenv\\lib\\site-packages (from gdown) (2.31.0)\n",
      "Requirement already satisfied: tqdm in c:\\users\\91808\\downloads\\end-to-end-with-mlflow-dvc\\myenv\\lib\\site-packages (from gdown) (4.66.2)\n",
      "Requirement already satisfied: soupsieve>1.2 in c:\\users\\91808\\downloads\\end-to-end-with-mlflow-dvc\\myenv\\lib\\site-packages (from beautifulsoup4->gdown) (2.5)\n",
      "Requirement already satisfied: charset-normalizer<4,>=2 in c:\\users\\91808\\downloads\\end-to-end-with-mlflow-dvc\\myenv\\lib\\site-packages (from requests[socks]->gdown) (3.3.2)\n",
      "Requirement already satisfied: idna<4,>=2.5 in c:\\users\\91808\\downloads\\end-to-end-with-mlflow-dvc\\myenv\\lib\\site-packages (from requests[socks]->gdown) (3.6)\n",
      "Requirement already satisfied: urllib3<3,>=1.21.1 in c:\\users\\91808\\downloads\\end-to-end-with-mlflow-dvc\\myenv\\lib\\site-packages (from requests[socks]->gdown) (2.2.1)\n",
      "Requirement already satisfied: certifi>=2017.4.17 in c:\\users\\91808\\downloads\\end-to-end-with-mlflow-dvc\\myenv\\lib\\site-packages (from requests[socks]->gdown) (2024.2.2)\n",
      "Requirement already satisfied: PySocks!=1.5.7,>=1.5.6 in c:\\users\\91808\\downloads\\end-to-end-with-mlflow-dvc\\myenv\\lib\\site-packages (from requests[socks]->gdown) (1.7.1)\n",
      "Requirement already satisfied: colorama in c:\\users\\91808\\downloads\\end-to-end-with-mlflow-dvc\\myenv\\lib\\site-packages (from tqdm->gdown) (0.4.6)\n"
     ]
    },
    {
     "name": "stderr",
     "output_type": "stream",
     "text": [
      "WARNING: Ignoring invalid distribution -ython-box (c:\\users\\91808\\downloads\\end-to-end-with-mlflow-dvc\\myenv\\lib\\site-packages)\n",
      "WARNING: Ignoring invalid distribution -ython-box (c:\\users\\91808\\downloads\\end-to-end-with-mlflow-dvc\\myenv\\lib\\site-packages)\n"
     ]
    }
   ],
   "source": [
    "!pip install gdown"
   ]
  },
  {
   "cell_type": "code",
   "execution_count": 5,
   "metadata": {},
   "outputs": [],
   "source": [
    "# download data from gdrive\n",
    "\n",
    "import gdown"
   ]
  },
  {
   "cell_type": "code",
   "execution_count": 1,
   "metadata": {},
   "outputs": [],
   "source": [
    "url=\"https://drive.google.com/drive/folders/1UtP6LXiCDfNYfMsO12XlXEbmMT_QSfZE?usp=sharing\""
   ]
  },
  {
   "cell_type": "code",
   "execution_count": 2,
   "metadata": {},
   "outputs": [],
   "source": [
    "file_id=url.split(\"/\")[-2]"
   ]
  },
  {
   "cell_type": "code",
   "execution_count": 6,
   "metadata": {},
   "outputs": [
    {
     "name": "stderr",
     "output_type": "stream",
     "text": [
      "c:\\Users\\91808\\Downloads\\End-to-End-with-mlflow-dvc\\myenv\\lib\\site-packages\\gdown\\parse_url.py:48: UserWarning: You specified a Google Drive link that is not the correct link to download a file. You might want to try `--fuzzy` option or the following url: https://drive.google.com/uc?id=None\n",
      "  warnings.warn(\n",
      "Downloading...\n",
      "From: https://drive.google.com/drive/foldersfolders\n",
      "To: c:\\Users\\91808\\Downloads\\End-to-End-with-mlflow-dvc\\research\\data1\n",
      "1.64kB [00:00, 1.57MB/s]\n"
     ]
    },
    {
     "data": {
      "text/plain": [
       "'data1'"
      ]
     },
     "execution_count": 6,
     "metadata": {},
     "output_type": "execute_result"
    }
   ],
   "source": [
    "prefix=\"https://drive.google.com/drive/folders\"\n",
    "gdown.download(prefix+file_id,\"data1\")"
   ]
  }
 ],
 "metadata": {
  "kernelspec": {
   "display_name": "myenv",
   "language": "python",
   "name": "python3"
  },
  "language_info": {
   "codemirror_mode": {
    "name": "ipython",
    "version": 3
   },
   "file_extension": ".py",
   "mimetype": "text/x-python",
   "name": "python",
   "nbconvert_exporter": "python",
   "pygments_lexer": "ipython3",
   "version": "3.10.7"
  }
 },
 "nbformat": 4,
 "nbformat_minor": 2
}
