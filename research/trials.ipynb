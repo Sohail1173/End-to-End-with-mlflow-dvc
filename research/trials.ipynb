{
 "cells": [
  {
   "cell_type": "code",
   "execution_count": 2,
   "metadata": {},
   "outputs": [
    {
     "name": "stdout",
     "output_type": "stream",
     "text": [
      "Requirement already satisfied: gdown in c:\\users\\91808\\downloads\\end-to-end-with-mlflow-dvc\\myenv\\lib\\site-packages (5.1.0)\n",
      "Requirement already satisfied: beautifulsoup4 in c:\\users\\91808\\downloads\\end-to-end-with-mlflow-dvc\\myenv\\lib\\site-packages (from gdown) (4.12.3)\n",
      "Requirement already satisfied: filelock in c:\\users\\91808\\downloads\\end-to-end-with-mlflow-dvc\\myenv\\lib\\site-packages (from gdown) (3.13.1)\n",
      "Requirement already satisfied: requests[socks] in c:\\users\\91808\\downloads\\end-to-end-with-mlflow-dvc\\myenv\\lib\\site-packages (from gdown) (2.31.0)\n",
      "Requirement already satisfied: tqdm in c:\\users\\91808\\downloads\\end-to-end-with-mlflow-dvc\\myenv\\lib\\site-packages (from gdown) (4.66.2)\n",
      "Requirement already satisfied: soupsieve>1.2 in c:\\users\\91808\\downloads\\end-to-end-with-mlflow-dvc\\myenv\\lib\\site-packages (from beautifulsoup4->gdown) (2.5)\n",
      "Requirement already satisfied: charset-normalizer<4,>=2 in c:\\users\\91808\\downloads\\end-to-end-with-mlflow-dvc\\myenv\\lib\\site-packages (from requests[socks]->gdown) (3.3.2)\n",
      "Requirement already satisfied: idna<4,>=2.5 in c:\\users\\91808\\downloads\\end-to-end-with-mlflow-dvc\\myenv\\lib\\site-packages (from requests[socks]->gdown) (3.6)\n",
      "Requirement already satisfied: urllib3<3,>=1.21.1 in c:\\users\\91808\\downloads\\end-to-end-with-mlflow-dvc\\myenv\\lib\\site-packages (from requests[socks]->gdown) (2.2.1)\n",
      "Requirement already satisfied: certifi>=2017.4.17 in c:\\users\\91808\\downloads\\end-to-end-with-mlflow-dvc\\myenv\\lib\\site-packages (from requests[socks]->gdown) (2024.2.2)\n",
      "Requirement already satisfied: PySocks!=1.5.7,>=1.5.6 in c:\\users\\91808\\downloads\\end-to-end-with-mlflow-dvc\\myenv\\lib\\site-packages (from requests[socks]->gdown) (1.7.1)\n",
      "Requirement already satisfied: colorama in c:\\users\\91808\\downloads\\end-to-end-with-mlflow-dvc\\myenv\\lib\\site-packages (from tqdm->gdown) (0.4.6)\n"
     ]
    },
    {
     "name": "stderr",
     "output_type": "stream",
     "text": [
      "WARNING: Ignoring invalid distribution -ython-box (c:\\users\\91808\\downloads\\end-to-end-with-mlflow-dvc\\myenv\\lib\\site-packages)\n",
      "WARNING: Ignoring invalid distribution -ython-box (c:\\users\\91808\\downloads\\end-to-end-with-mlflow-dvc\\myenv\\lib\\site-packages)\n"
     ]
    }
   ],
   "source": [
    "!pip install gdown"
   ]
  },
  {
   "cell_type": "code",
   "execution_count": 3,
   "metadata": {},
   "outputs": [],
   "source": [
    "# download data from gdrive\n",
    "\n",
    "import gdown"
   ]
  },
  {
   "cell_type": "code",
   "execution_count": 1,
   "metadata": {},
   "outputs": [],
   "source": [
    "url=\"https://drive.google.com/file/d/1kcxwoeV-ZIu4kxDK3fL4ekCvDLPs9u8q/view?usp=sharing\""
   ]
  },
  {
   "cell_type": "code",
   "execution_count": 4,
   "metadata": {},
   "outputs": [],
   "source": [
    "file_id=url.split(\"/\")[-2]"
   ]
  },
  {
   "cell_type": "code",
   "execution_count": 5,
   "metadata": {},
   "outputs": [
    {
     "name": "stderr",
     "output_type": "stream",
     "text": [
      "Downloading...\n",
      "From (original): https://drive.google.com/uc?/export=download&id=1kcxwoeV-ZIu4kxDK3fL4ekCvDLPs9u8q\n",
      "From (redirected): https://drive.google.com/uc?%2Fexport=download&id=1kcxwoeV-ZIu4kxDK3fL4ekCvDLPs9u8q&confirm=t&uuid=cb9055d2-99cd-4533-b1ee-effa15ad52b2\n",
      "To: c:\\Users\\91808\\Downloads\\End-to-End-with-mlflow-dvc\\research\\data.zip\n",
      "100%|██████████| 51.5M/51.5M [00:20<00:00, 2.52MB/s]\n"
     ]
    },
    {
     "data": {
      "text/plain": [
       "'data.zip'"
      ]
     },
     "execution_count": 5,
     "metadata": {},
     "output_type": "execute_result"
    }
   ],
   "source": [
    "prefix = 'https://drive.google.com/uc?/export=download&id='\n",
    "gdown.download(prefix+file_id, \"data.zip\")"
   ]
  },
  {
   "cell_type": "code",
   "execution_count": 7,
   "metadata": {},
   "outputs": [],
   "source": [
    "import zipfile\n",
    "import shutil\n"
   ]
  },
  {
   "cell_type": "code",
   "execution_count": 8,
   "metadata": {},
   "outputs": [],
   "source": [
    "with zipfile.ZipFile(r\"C:\\Users\\91808\\Downloads\\End-to-End-with-mlflow-dvc\\research\\data.zip\", 'r') as zip_ref:\n",
    "            zip_ref.extractall(r\"C:\\Users\\91808\\Downloads\\End-to-End-with-mlflow-dvc\")"
   ]
  },
  {
   "cell_type": "code",
   "execution_count": 31,
   "metadata": {},
   "outputs": [],
   "source": [
    "shutil.unpack_archive(\n",
    "    r\"C:\\Users\\91808\\Downloads\\End-to-End-with-mlflow-dvc\\research\\data.zip\",\n",
    "    r'C:\\Users\\91808\\Downloads\\End-to-End-with-mlflow-dvc'\n",
    ")"
   ]
  },
  {
   "cell_type": "code",
   "execution_count": null,
   "metadata": {},
   "outputs": [],
   "source": []
  }
 ],
 "metadata": {
  "kernelspec": {
   "display_name": "myenv",
   "language": "python",
   "name": "python3"
  },
  "language_info": {
   "codemirror_mode": {
    "name": "ipython",
    "version": 3
   },
   "file_extension": ".py",
   "mimetype": "text/x-python",
   "name": "python",
   "nbconvert_exporter": "python",
   "pygments_lexer": "ipython3",
   "version": "3.10.7"
  }
 },
 "nbformat": 4,
 "nbformat_minor": 2
}
