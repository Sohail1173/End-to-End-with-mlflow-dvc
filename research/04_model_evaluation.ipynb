{
 "cells": [
  {
   "cell_type": "code",
   "execution_count": 1,
   "metadata": {},
   "outputs": [],
   "source": [
    "import os"
   ]
  },
  {
   "cell_type": "code",
   "execution_count": 2,
   "metadata": {},
   "outputs": [
    {
     "data": {
      "text/plain": [
       "'c:\\\\Users\\\\91808\\\\Downloads\\\\End-to-End-with-mlflow-dvc\\\\research'"
      ]
     },
     "execution_count": 2,
     "metadata": {},
     "output_type": "execute_result"
    }
   ],
   "source": [
    "%pwd"
   ]
  },
  {
   "cell_type": "code",
   "execution_count": 3,
   "metadata": {},
   "outputs": [],
   "source": [
    "os.chdir(\"../\")"
   ]
  },
  {
   "cell_type": "code",
   "execution_count": 4,
   "metadata": {},
   "outputs": [
    {
     "data": {
      "text/plain": [
       "'c:\\\\Users\\\\91808\\\\Downloads\\\\End-to-End-with-mlflow-dvc'"
      ]
     },
     "execution_count": 4,
     "metadata": {},
     "output_type": "execute_result"
    }
   ],
   "source": [
    "%pwd"
   ]
  },
  {
   "cell_type": "code",
   "execution_count": 5,
   "metadata": {},
   "outputs": [],
   "source": [
    "os.environ[\"MLFLOW_TRACKING_URI\"]=\"\"\n",
    "os.environ[\"MLFLOW_TRACKING_USERNAME\"]=\"\"\n",
    "os.environ[\"MLFLOW_TRACKING_PASSWORD\"]=\"\""
   ]
  },
  {
   "cell_type": "code",
   "execution_count": 6,
   "metadata": {},
   "outputs": [
    {
     "name": "stdout",
     "output_type": "stream",
     "text": [
      "WARNING:tensorflow:From c:\\Users\\91808\\Downloads\\End-to-End-with-mlflow-dvc\\myenv\\lib\\site-packages\\keras\\src\\losses.py:2976: The name tf.losses.sparse_softmax_cross_entropy is deprecated. Please use tf.compat.v1.losses.sparse_softmax_cross_entropy instead.\n",
      "\n"
     ]
    }
   ],
   "source": [
    "import tensorflow as tf\n"
   ]
  },
  {
   "cell_type": "code",
   "execution_count": 7,
   "metadata": {},
   "outputs": [
    {
     "name": "stdout",
     "output_type": "stream",
     "text": [
      "WARNING:tensorflow:From c:\\Users\\91808\\Downloads\\End-to-End-with-mlflow-dvc\\myenv\\lib\\site-packages\\keras\\src\\backend.py:1398: The name tf.executing_eagerly_outside_functions is deprecated. Please use tf.compat.v1.executing_eagerly_outside_functions instead.\n",
      "\n",
      "WARNING:tensorflow:From c:\\Users\\91808\\Downloads\\End-to-End-with-mlflow-dvc\\myenv\\lib\\site-packages\\keras\\src\\layers\\pooling\\max_pooling2d.py:161: The name tf.nn.max_pool is deprecated. Please use tf.nn.max_pool2d instead.\n",
      "\n"
     ]
    }
   ],
   "source": [
    "model=tf.keras.models.load_model(\"artifacts\\\\training\\\\model.h5\")\n"
   ]
  },
  {
   "cell_type": "code",
   "execution_count": 8,
   "metadata": {},
   "outputs": [],
   "source": [
    "from dataclasses import dataclass\n",
    "from pathlib import Path\n",
    "\n",
    "@dataclass(frozen=True)\n",
    "class EvaluationConfig:\n",
    "    path_of_model:Path\n",
    "    training_data:Path\n",
    "    all_params:dict\n",
    "    mlflow_url:str\n",
    "    params_image_size:list\n",
    "    params_batch_size:int"
   ]
  },
  {
   "cell_type": "code",
   "execution_count": 9,
   "metadata": {},
   "outputs": [],
   "source": [
    "from src.cancerClassification.constants import *\n",
    "from src.cancerClassification.utils.common import read_yaml, create_directories, save_json"
   ]
  },
  {
   "cell_type": "code",
   "execution_count": 10,
   "metadata": {},
   "outputs": [],
   "source": [
    "class ConfigurationManager:\n",
    "    def __init__(\n",
    "        self, \n",
    "        config_filepath = CONFIG_FILE_PATH,\n",
    "        params_filepath = PARAMS_FILE_PATH):\n",
    "        self.config = read_yaml(config_filepath)\n",
    "        self.params = read_yaml(params_filepath)\n",
    "        create_directories([self.config.artifacts_root])\n",
    "\n",
    "    \n",
    "    def get_evaluation_config(self) -> EvaluationConfig:\n",
    "        eval_config = EvaluationConfig(\n",
    "            path_of_model=\"artifacts\\\\training\\\\model.h5\",\n",
    "            training_data=\"artifacts\\\\data_ingestion\\\\chest-ctscan\",\n",
    "            mlflow_url=\"https://dagshub.com/Sohail1173/End-to-End-with-mlflow-dvc.mlflow\",\n",
    "            all_params=self.params,\n",
    "            params_image_size=self.params.IMAGE_SIZE,\n",
    "            params_batch_size=self.params.BATCH_SIZE\n",
    "        )\n",
    "        return eval_config"
   ]
  },
  {
   "cell_type": "code",
   "execution_count": 11,
   "metadata": {},
   "outputs": [
    {
     "name": "stdout",
     "output_type": "stream",
     "text": [
      "Note: you may need to restart the kernel to use updated packages.Requirement already satisfied: mlflow in c:\\users\\91808\\downloads\\end-to-end-with-mlflow-dvc\\myenv\\lib\\site-packages (2.10.2)\n",
      "Requirement already satisfied: click<9,>=7.0 in c:\\users\\91808\\downloads\\end-to-end-with-mlflow-dvc\\myenv\\lib\\site-packages (from mlflow) (8.1.7)\n",
      "Requirement already satisfied: cloudpickle<4 in c:\\users\\91808\\downloads\\end-to-end-with-mlflow-dvc\\myenv\\lib\\site-packages (from mlflow) (3.0.0)\n",
      "Requirement already satisfied: entrypoints<1 in c:\\users\\91808\\downloads\\end-to-end-with-mlflow-dvc\\myenv\\lib\\site-packages (from mlflow) (0.4)\n",
      "Requirement already satisfied: gitpython<4,>=2.1.0 in c:\\users\\91808\\downloads\\end-to-end-with-mlflow-dvc\\myenv\\lib\\site-packages (from mlflow) (3.1.42)\n",
      "Requirement already satisfied: pyyaml<7,>=5.1 in c:\\users\\91808\\downloads\\end-to-end-with-mlflow-dvc\\myenv\\lib\\site-packages (from mlflow) (6.0.1)\n",
      "Requirement already satisfied: protobuf<5,>=3.12.0 in c:\\users\\91808\\downloads\\end-to-end-with-mlflow-dvc\\myenv\\lib\\site-packages (from mlflow) (4.25.3)\n",
      "Requirement already satisfied: pytz<2024 in c:\\users\\91808\\downloads\\end-to-end-with-mlflow-dvc\\myenv\\lib\\site-packages (from mlflow) (2022.7.1)\n",
      "Requirement already satisfied: requests<3,>=2.17.3 in c:\\users\\91808\\downloads\\end-to-end-with-mlflow-dvc\\myenv\\lib\\site-packages (from mlflow) (2.31.0)\n",
      "Requirement already satisfied: packaging<24 in c:\\users\\91808\\downloads\\end-to-end-with-mlflow-dvc\\myenv\\lib\\site-packages (from mlflow) (23.2)\n",
      "Requirement already satisfied: importlib-metadata!=4.7.0,<8,>=3.7.0 in c:\\users\\91808\\downloads\\end-to-end-with-mlflow-dvc\\myenv\\lib\\site-packages (from mlflow) (7.0.1)\n",
      "Requirement already satisfied: sqlparse<1,>=0.4.0 in c:\\users\\91808\\downloads\\end-to-end-with-mlflow-dvc\\myenv\\lib\\site-packages (from mlflow) (0.4.4)\n",
      "Requirement already satisfied: alembic!=1.10.0,<2 in c:\\users\\91808\\downloads\\end-to-end-with-mlflow-dvc\\myenv\\lib\\site-packages (from mlflow) (1.13.1)\n",
      "Requirement already satisfied: docker<8,>=4.0.0 in c:\\users\\91808\\downloads\\end-to-end-with-mlflow-dvc\\myenv\\lib\\site-packages (from mlflow) (7.0.0)\n",
      "Requirement already satisfied: Flask<4 in c:\\users\\91808\\downloads\\end-to-end-with-mlflow-dvc\\myenv\\lib\\site-packages (from mlflow) (3.0.2)\n",
      "Requirement already satisfied: numpy<2 in c:\\users\\91808\\downloads\\end-to-end-with-mlflow-dvc\\myenv\\lib\\site-packages (from mlflow) (1.26.4)\n",
      "Requirement already satisfied: scipy<2 in c:\\users\\91808\\downloads\\end-to-end-with-mlflow-dvc\\myenv\\lib\\site-packages (from mlflow) (1.12.0)\n",
      "Requirement already satisfied: pandas<3 in c:\\users\\91808\\downloads\\end-to-end-with-mlflow-dvc\\myenv\\lib\\site-packages (from mlflow) (2.2.1)\n",
      "Requirement already satisfied: querystring-parser<2 in c:\\users\\91808\\downloads\\end-to-end-with-mlflow-dvc\\myenv\\lib\\site-packages (from mlflow) (1.2.4)\n",
      "Requirement already satisfied: sqlalchemy<3,>=1.4.0 in c:\\users\\91808\\downloads\\end-to-end-with-mlflow-dvc\\myenv\\lib\\site-packages (from mlflow) (2.0.27)\n",
      "Requirement already satisfied: scikit-learn<2 in c:\\users\\91808\\downloads\\end-to-end-with-mlflow-dvc\\myenv\\lib\\site-packages (from mlflow) (1.4.1.post1)\n",
      "Requirement already satisfied: pyarrow<16,>=4.0.0 in c:\\users\\91808\\downloads\\end-to-end-with-mlflow-dvc\\myenv\\lib\\site-packages (from mlflow) (15.0.0)\n",
      "Requirement already satisfied: markdown<4,>=3.3 in c:\\users\\91808\\downloads\\end-to-end-with-mlflow-dvc\\myenv\\lib\\site-packages (from mlflow) (3.5.2)\n",
      "Requirement already satisfied: matplotlib<4 in c:\\users\\91808\\downloads\\end-to-end-with-mlflow-dvc\\myenv\\lib\\site-packages (from mlflow) (3.8.3)\n",
      "Requirement already satisfied: waitress<3 in c:\\users\\91808\\downloads\\end-to-end-with-mlflow-dvc\\myenv\\lib\\site-packages (from mlflow) (2.1.2)\n",
      "Requirement already satisfied: Jinja2<4,>=3.0 in c:\\users\\91808\\downloads\\end-to-end-with-mlflow-dvc\\myenv\\lib\\site-packages (from mlflow) (3.1.3)\n",
      "Requirement already satisfied: Mako in c:\\users\\91808\\downloads\\end-to-end-with-mlflow-dvc\\myenv\\lib\\site-packages (from alembic!=1.10.0,<2->mlflow) (1.3.2)\n",
      "Requirement already satisfied: typing-extensions>=4 in c:\\users\\91808\\downloads\\end-to-end-with-mlflow-dvc\\myenv\\lib\\site-packages (from alembic!=1.10.0,<2->mlflow) (4.10.0)\n",
      "Requirement already satisfied: colorama in c:\\users\\91808\\downloads\\end-to-end-with-mlflow-dvc\\myenv\\lib\\site-packages (from click<9,>=7.0->mlflow) (0.4.6)\n",
      "Requirement already satisfied: urllib3>=1.26.0 in c:\\users\\91808\\downloads\\end-to-end-with-mlflow-dvc\\myenv\\lib\\site-packages (from docker<8,>=4.0.0->mlflow) (2.2.1)\n",
      "Requirement already satisfied: pywin32>=304 in c:\\users\\91808\\downloads\\end-to-end-with-mlflow-dvc\\myenv\\lib\\site-packages (from docker<8,>=4.0.0->mlflow) (306)\n",
      "Requirement already satisfied: Werkzeug>=3.0.0 in c:\\users\\91808\\downloads\\end-to-end-with-mlflow-dvc\\myenv\\lib\\site-packages (from Flask<4->mlflow) (3.0.1)\n",
      "Requirement already satisfied: itsdangerous>=2.1.2 in c:\\users\\91808\\downloads\\end-to-end-with-mlflow-dvc\\myenv\\lib\\site-packages (from Flask<4->mlflow) (2.1.2)\n",
      "Requirement already satisfied: blinker>=1.6.2 in c:\\users\\91808\\downloads\\end-to-end-with-mlflow-dvc\\myenv\\lib\\site-packages (from Flask<4->mlflow) (1.7.0)\n",
      "Requirement already satisfied: gitdb<5,>=4.0.1 in c:\\users\\91808\\downloads\\end-to-end-with-mlflow-dvc\\myenv\\lib\\site-packages (from gitpython<4,>=2.1.0->mlflow) (4.0.11)\n",
      "Requirement already satisfied: zipp>=0.5 in c:\\users\\91808\\downloads\\end-to-end-with-mlflow-dvc\\myenv\\lib\\site-packages (from importlib-metadata!=4.7.0,<8,>=3.7.0->mlflow) (3.17.0)\n",
      "Requirement already satisfied: MarkupSafe>=2.0 in c:\\users\\91808\\downloads\\end-to-end-with-mlflow-dvc\\myenv\\lib\\site-packages (from Jinja2<4,>=3.0->mlflow) (2.1.5)\n",
      "Requirement already satisfied: contourpy>=1.0.1 in c:\\users\\91808\\downloads\\end-to-end-with-mlflow-dvc\\myenv\\lib\\site-packages (from matplotlib<4->mlflow) (1.2.0)\n",
      "Requirement already satisfied: cycler>=0.10 in c:\\users\\91808\\downloads\\end-to-end-with-mlflow-dvc\\myenv\\lib\\site-packages (from matplotlib<4->mlflow) (0.12.1)\n",
      "Requirement already satisfied: fonttools>=4.22.0 in c:\\users\\91808\\downloads\\end-to-end-with-mlflow-dvc\\myenv\\lib\\site-packages (from matplotlib<4->mlflow) (4.49.0)\n",
      "Requirement already satisfied: kiwisolver>=1.3.1 in c:\\users\\91808\\downloads\\end-to-end-with-mlflow-dvc\\myenv\\lib\\site-packages (from matplotlib<4->mlflow) (1.4.5)\n",
      "Requirement already satisfied: pillow>=8 in c:\\users\\91808\\downloads\\end-to-end-with-mlflow-dvc\\myenv\\lib\\site-packages (from matplotlib<4->mlflow) (10.2.0)\n",
      "Requirement already satisfied: pyparsing>=2.3.1 in c:\\users\\91808\\downloads\\end-to-end-with-mlflow-dvc\\myenv\\lib\\site-packages (from matplotlib<4->mlflow) (3.1.1)\n",
      "Requirement already satisfied: python-dateutil>=2.7 in c:\\users\\91808\\downloads\\end-to-end-with-mlflow-dvc\\myenv\\lib\\site-packages (from matplotlib<4->mlflow) (2.8.2)\n",
      "Requirement already satisfied: tzdata>=2022.7 in c:\\users\\91808\\downloads\\end-to-end-with-mlflow-dvc\\myenv\\lib\\site-packages (from pandas<3->mlflow) (2024.1)\n",
      "Requirement already satisfied: six in c:\\users\\91808\\downloads\\end-to-end-with-mlflow-dvc\\myenv\\lib\\site-packages (from querystring-parser<2->mlflow) (1.16.0)\n",
      "Requirement already satisfied: charset-normalizer<4,>=2 in c:\\users\\91808\\downloads\\end-to-end-with-mlflow-dvc\\myenv\\lib\\site-packages (from requests<3,>=2.17.3->mlflow) (3.3.2)\n",
      "Requirement already satisfied: idna<4,>=2.5 in c:\\users\\91808\\downloads\\end-to-end-with-mlflow-dvc\\myenv\\lib\\site-packages (from requests<3,>=2.17.3->mlflow) (3.6)\n",
      "Requirement already satisfied: certifi>=2017.4.17 in c:\\users\\91808\\downloads\\end-to-end-with-mlflow-dvc\\myenv\\lib\\site-packages (from requests<3,>=2.17.3->mlflow) (2024.2.2)\n",
      "Requirement already satisfied: joblib>=1.2.0 in c:\\users\\91808\\downloads\\end-to-end-with-mlflow-dvc\\myenv\\lib\\site-packages (from scikit-learn<2->mlflow) (1.3.2)\n",
      "Requirement already satisfied: threadpoolctl>=2.0.0 in c:\\users\\91808\\downloads\\end-to-end-with-mlflow-dvc\\myenv\\lib\\site-packages (from scikit-learn<2->mlflow) (3.3.0)\n",
      "Requirement already satisfied: greenlet!=0.4.17 in c:\\users\\91808\\downloads\\end-to-end-with-mlflow-dvc\\myenv\\lib\\site-packages (from sqlalchemy<3,>=1.4.0->mlflow) (3.0.3)\n",
      "Requirement already satisfied: smmap<6,>=3.0.1 in c:\\users\\91808\\downloads\\end-to-end-with-mlflow-dvc\\myenv\\lib\\site-packages (from gitdb<5,>=4.0.1->gitpython<4,>=2.1.0->mlflow) (5.0.1)\n",
      "\n"
     ]
    },
    {
     "name": "stderr",
     "output_type": "stream",
     "text": [
      "WARNING: Ignoring invalid distribution -ython-box (c:\\users\\91808\\downloads\\end-to-end-with-mlflow-dvc\\myenv\\lib\\site-packages)\n",
      "WARNING: Ignoring invalid distribution -ython-box (c:\\users\\91808\\downloads\\end-to-end-with-mlflow-dvc\\myenv\\lib\\site-packages)\n"
     ]
    }
   ],
   "source": [
    "%pip install mlflow"
   ]
  },
  {
   "cell_type": "code",
   "execution_count": 12,
   "metadata": {},
   "outputs": [],
   "source": [
    "import tensorflow as tf\n",
    "from pathlib import Path\n",
    "import mlflow\n",
    "import mlflow.keras\n",
    "from urllib.parse import urlparse"
   ]
  },
  {
   "cell_type": "code",
   "execution_count": 13,
   "metadata": {},
   "outputs": [],
   "source": [
    "class Evaluation:\n",
    "    def __init__(self, config: EvaluationConfig):\n",
    "        self.config = config\n",
    "\n",
    "    \n",
    "    def _valid_generator(self):\n",
    "\n",
    "        datagenerator_kwargs = dict(\n",
    "            rescale = 1./255,\n",
    "            validation_split=0.30\n",
    "        )\n",
    "\n",
    "        dataflow_kwargs = dict(\n",
    "            target_size=self.config.params_image_size[:-1],\n",
    "            batch_size=self.config.params_batch_size,\n",
    "            interpolation=\"bilinear\"\n",
    "        )\n",
    "\n",
    "        valid_datagenerator = tf.keras.preprocessing.image.ImageDataGenerator(\n",
    "            **datagenerator_kwargs\n",
    "        )\n",
    "\n",
    "        self.valid_generator = valid_datagenerator.flow_from_directory(\n",
    "            directory=self.config.training_data,\n",
    "            subset=\"validation\",\n",
    "            shuffle=False,\n",
    "            **dataflow_kwargs\n",
    "        )\n",
    "\n",
    "\n",
    "    @staticmethod\n",
    "    def load_model(path: Path) -> tf.keras.Model:\n",
    "        return tf.keras.models.load_model(path)\n",
    "    \n",
    "\n",
    "    def evaluation(self):\n",
    "        self.model = self.load_model(self.config.path_of_model)\n",
    "        self._valid_generator()\n",
    "        self.score = model.evaluate(self.valid_generator)\n",
    "        self.save_score()\n",
    "\n",
    "    def save_score(self):\n",
    "        scores = {\"loss\": self.score[0], \"accuracy\": self.score[1]}\n",
    "        save_json(path=Path(\"scores.json\"), data=scores)\n",
    "\n",
    "    \n",
    "    def log_into_mlflow(self):\n",
    "        mlflow.set_registry_uri(self.config.mlflow_url)\n",
    "        tracking_url_type_store = urlparse(mlflow.get_tracking_uri()).scheme\n",
    "        \n",
    "        with mlflow.start_run():\n",
    "            mlflow.log_params(self.config.all_params)\n",
    "            mlflow.log_metrics(\n",
    "                {\"loss\": self.score[0], \"accuracy\": self.score[1]}\n",
    "            )\n",
    "            # Model registry does not work with file store\n",
    "            if tracking_url_type_store != \"file\":\n",
    "\n",
    "                # Register the model\n",
    "                # There are other ways to use the Model Registry, which depends on the use case,\n",
    "                # please refer to the doc for more information:\n",
    "                # https://mlflow.org/docs/latest/model-registry.html#api-workflow\n",
    "                mlflow.keras.log_model(self.model, \"model\", registered_model_name=\"VGG16Model\")\n",
    "            else:\n",
    "                mlflow.keras.log_model(self.model, \"model\")"
   ]
  },
  {
   "cell_type": "code",
   "execution_count": 14,
   "metadata": {},
   "outputs": [
    {
     "name": "stdout",
     "output_type": "stream",
     "text": [
      "[2024-02-29 08:34:13,107: INFO: common: yaml file: config\\config.yaml loaded successfully]\n",
      "[2024-02-29 08:34:13,113: INFO: common: yaml file: params.yaml loaded successfully]\n",
      "[2024-02-29 08:34:13,115: INFO: common: created directory at: artifacts]\n",
      "Found 104 images belonging to 2 classes.\n",
      "WARNING:tensorflow:From c:\\Users\\91808\\Downloads\\End-to-End-with-mlflow-dvc\\myenv\\lib\\site-packages\\keras\\src\\utils\\tf_utils.py:492: The name tf.ragged.RaggedTensorValue is deprecated. Please use tf.compat.v1.ragged.RaggedTensorValue instead.\n",
      "\n",
      "[2024-02-29 08:34:14,198: WARNING: module_wrapper: From c:\\Users\\91808\\Downloads\\End-to-End-with-mlflow-dvc\\myenv\\lib\\site-packages\\keras\\src\\utils\\tf_utils.py:492: The name tf.ragged.RaggedTensorValue is deprecated. Please use tf.compat.v1.ragged.RaggedTensorValue instead.\n",
      "]\n",
      "7/7 [==============================] - 11s 1s/step - loss: 9.5222 - accuracy: 0.4423\n",
      "[2024-02-29 08:34:25,065: INFO: common: json file saved at: scores.json]\n"
     ]
    },
    {
     "name": "stderr",
     "output_type": "stream",
     "text": [
      "2024/02/29 08:34:27 WARNING mlflow.tensorflow: You are saving a TensorFlow Core model or Keras model without a signature. Inference with mlflow.pyfunc.spark_udf() will not work unless the model's pyfunc representation accepts pandas DataFrames as inference inputs.\n"
     ]
    },
    {
     "name": "stdout",
     "output_type": "stream",
     "text": [
      "INFO:tensorflow:Assets written to: C:\\Users\\91808\\AppData\\Local\\Temp\\tmpg19_nbmp\\model\\data\\model\\assets\n",
      "[2024-02-29 08:34:32,683: INFO: builder_impl: Assets written to: C:\\Users\\91808\\AppData\\Local\\Temp\\tmpg19_nbmp\\model\\data\\model\\assets]\n"
     ]
    },
    {
     "name": "stderr",
     "output_type": "stream",
     "text": [
      "c:\\Users\\91808\\Downloads\\End-to-End-with-mlflow-dvc\\myenv\\lib\\site-packages\\_distutils_hack\\__init__.py:33: UserWarning: Setuptools is replacing distutils.\n",
      "  warnings.warn(\"Setuptools is replacing distutils.\")\n",
      "Registered model 'VGG16Model' already exists. Creating a new version of this model...\n",
      "2024/02/29 08:35:53 INFO mlflow.store.model_registry.abstract_store: Waiting up to 300 seconds for model version to finish creation. Model name: VGG16Model, version 4\n",
      "Created version '4' of model 'VGG16Model'.\n"
     ]
    }
   ],
   "source": [
    "try:\n",
    "    config = ConfigurationManager()\n",
    "    eval_config = config.get_evaluation_config()\n",
    "    evaluation = Evaluation(eval_config)\n",
    "    evaluation.evaluation()\n",
    "    evaluation.log_into_mlflow()\n",
    "\n",
    "except Exception as e:\n",
    "   raise e"
   ]
  },
  {
   "cell_type": "code",
   "execution_count": null,
   "metadata": {},
   "outputs": [],
   "source": []
  }
 ],
 "metadata": {
  "kernelspec": {
   "display_name": "myenv",
   "language": "python",
   "name": "python3"
  },
  "language_info": {
   "codemirror_mode": {
    "name": "ipython",
    "version": 3
   },
   "file_extension": ".py",
   "mimetype": "text/x-python",
   "name": "python",
   "nbconvert_exporter": "python",
   "pygments_lexer": "ipython3",
   "version": "3.10.7"
  }
 },
 "nbformat": 4,
 "nbformat_minor": 2
}
